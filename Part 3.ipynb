{
 "cells": [
  {
   "cell_type": "markdown",
   "metadata": {},
   "source": [
    "# Clustering the Neighbours of Toronto (Question 3)"
   ]
  },
  {
   "cell_type": "markdown",
   "metadata": {},
   "source": [
    "### 1. Importing packages"
   ]
  },
  {
   "cell_type": "code",
   "execution_count": 13,
   "metadata": {},
   "outputs": [],
   "source": [
    "import numpy as np\n",
    "import pandas as pd\n",
    "pd.set_option('display.max_columns', None)\n",
    "pd.set_option('display.max_rows', None)\n",
    "\n",
    "import json\n",
    "\n",
    "#!conda install -c conda-forge geopy --yes\n",
    "from geopy.geocoders import Nominatim\n",
    "\n",
    "from bs4 import BeautifulSoup\n",
    "from urllib.request import urlopen\n",
    "import requests\n",
    "from pandas.io.json import json_normalize\n",
    "\n",
    "import matplotlib.cm as cm\n",
    "import matplotlib.colors as colors\n",
    "\n",
    "from sklearn.cluster import KMeans\n",
    "\n",
    "#!conda install -c conda-forge folium=0.5.0 --yes\n",
    "import folium"
   ]
  },
  {
   "cell_type": "markdown",
   "metadata": {},
   "source": [
    "### 2. Extracting data"
   ]
  },
  {
   "cell_type": "code",
   "execution_count": 2,
   "metadata": {},
   "outputs": [],
   "source": [
    "url = 'https://en.wikipedia.org/wiki/List_of_postal_codes_of_Canada:_M'\n",
    "page = urlopen(url).read().decode('utf-8')\n",
    "soup = BeautifulSoup(page, 'html.parser')\n",
    "\n",
    "wiki_table = soup.body.table.tbody"
   ]
  },
  {
   "cell_type": "markdown",
   "metadata": {},
   "source": [
    "### 3. Extracting data into Table"
   ]
  },
  {
   "cell_type": "code",
   "execution_count": 3,
   "metadata": {},
   "outputs": [],
   "source": [
    "def get_cell(element):\n",
    "    cells = element.find_all('td')\n",
    "    row = []\n",
    "    \n",
    "    for cell in cells:\n",
    "        if cell.a:            \n",
    "            if (cell.a.text):\n",
    "                row.append(cell.a.text)\n",
    "                continue\n",
    "        row.append(cell.string.strip())\n",
    "        \n",
    "    return row"
   ]
  },
  {
   "cell_type": "code",
   "execution_count": 4,
   "metadata": {},
   "outputs": [],
   "source": [
    "def get_row():    \n",
    "    data = []  \n",
    "    \n",
    "    for tr in wiki_table.find_all('tr'):\n",
    "        row = get_cell(tr)\n",
    "        if len(row) != 3:\n",
    "            continue\n",
    "        data.append(row)        \n",
    "    \n",
    "    return data"
   ]
  },
  {
   "cell_type": "code",
   "execution_count": 5,
   "metadata": {},
   "outputs": [
    {
     "data": {
      "text/html": [
       "<div>\n",
       "<style scoped>\n",
       "    .dataframe tbody tr th:only-of-type {\n",
       "        vertical-align: middle;\n",
       "    }\n",
       "\n",
       "    .dataframe tbody tr th {\n",
       "        vertical-align: top;\n",
       "    }\n",
       "\n",
       "    .dataframe thead th {\n",
       "        text-align: right;\n",
       "    }\n",
       "</style>\n",
       "<table border=\"1\" class=\"dataframe\">\n",
       "  <thead>\n",
       "    <tr style=\"text-align: right;\">\n",
       "      <th></th>\n",
       "      <th>PostalCode</th>\n",
       "      <th>Borough</th>\n",
       "      <th>Neighbourhood</th>\n",
       "    </tr>\n",
       "  </thead>\n",
       "  <tbody>\n",
       "    <tr>\n",
       "      <th>0</th>\n",
       "      <td>M1A</td>\n",
       "      <td>Not assigned</td>\n",
       "      <td>Not assigned</td>\n",
       "    </tr>\n",
       "    <tr>\n",
       "      <th>1</th>\n",
       "      <td>M2A</td>\n",
       "      <td>Not assigned</td>\n",
       "      <td>Not assigned</td>\n",
       "    </tr>\n",
       "    <tr>\n",
       "      <th>2</th>\n",
       "      <td>M3A</td>\n",
       "      <td>North York</td>\n",
       "      <td>Parkwoods</td>\n",
       "    </tr>\n",
       "    <tr>\n",
       "      <th>3</th>\n",
       "      <td>M4A</td>\n",
       "      <td>North York</td>\n",
       "      <td>Victoria Village</td>\n",
       "    </tr>\n",
       "    <tr>\n",
       "      <th>4</th>\n",
       "      <td>M5A</td>\n",
       "      <td>Downtown Toronto</td>\n",
       "      <td>Regent Park, Harbourfront</td>\n",
       "    </tr>\n",
       "  </tbody>\n",
       "</table>\n",
       "</div>"
      ],
      "text/plain": [
       "  PostalCode           Borough              Neighbourhood\n",
       "0        M1A      Not assigned               Not assigned\n",
       "1        M2A      Not assigned               Not assigned\n",
       "2        M3A        North York                  Parkwoods\n",
       "3        M4A        North York           Victoria Village\n",
       "4        M5A  Downtown Toronto  Regent Park, Harbourfront"
      ]
     },
     "execution_count": 5,
     "metadata": {},
     "output_type": "execute_result"
    }
   ],
   "source": [
    "data = get_row()\n",
    "columns = ['PostalCode', 'Borough', 'Neighbourhood']\n",
    "df = pd.DataFrame(data, columns=columns)\n",
    "df.head()"
   ]
  },
  {
   "cell_type": "markdown",
   "metadata": {},
   "source": [
    "### 4. Cleaning the Data"
   ]
  },
  {
   "cell_type": "code",
   "execution_count": 7,
   "metadata": {},
   "outputs": [
    {
     "data": {
      "text/html": [
       "<div>\n",
       "<style scoped>\n",
       "    .dataframe tbody tr th:only-of-type {\n",
       "        vertical-align: middle;\n",
       "    }\n",
       "\n",
       "    .dataframe tbody tr th {\n",
       "        vertical-align: top;\n",
       "    }\n",
       "\n",
       "    .dataframe thead th {\n",
       "        text-align: right;\n",
       "    }\n",
       "</style>\n",
       "<table border=\"1\" class=\"dataframe\">\n",
       "  <thead>\n",
       "    <tr style=\"text-align: right;\">\n",
       "      <th></th>\n",
       "      <th>PostalCode</th>\n",
       "      <th>Borough</th>\n",
       "      <th>Neighbourhood</th>\n",
       "    </tr>\n",
       "  </thead>\n",
       "  <tbody>\n",
       "    <tr>\n",
       "      <th>0</th>\n",
       "      <td>M1B</td>\n",
       "      <td>Scarborough</td>\n",
       "      <td>Malvern, Rouge</td>\n",
       "    </tr>\n",
       "    <tr>\n",
       "      <th>1</th>\n",
       "      <td>M1C</td>\n",
       "      <td>Scarborough</td>\n",
       "      <td>Rouge Hill, Port Union, Highland Creek</td>\n",
       "    </tr>\n",
       "    <tr>\n",
       "      <th>2</th>\n",
       "      <td>M1E</td>\n",
       "      <td>Scarborough</td>\n",
       "      <td>Guildwood, Morningside, West Hill</td>\n",
       "    </tr>\n",
       "    <tr>\n",
       "      <th>3</th>\n",
       "      <td>M1G</td>\n",
       "      <td>Scarborough</td>\n",
       "      <td>Woburn</td>\n",
       "    </tr>\n",
       "    <tr>\n",
       "      <th>4</th>\n",
       "      <td>M1H</td>\n",
       "      <td>Scarborough</td>\n",
       "      <td>Cedarbrae</td>\n",
       "    </tr>\n",
       "  </tbody>\n",
       "</table>\n",
       "</div>"
      ],
      "text/plain": [
       "  PostalCode      Borough                           Neighbourhood\n",
       "0        M1B  Scarborough                          Malvern, Rouge\n",
       "1        M1C  Scarborough  Rouge Hill, Port Union, Highland Creek\n",
       "2        M1E  Scarborough       Guildwood, Morningside, West Hill\n",
       "3        M1G  Scarborough                                  Woburn\n",
       "4        M1H  Scarborough                               Cedarbrae"
      ]
     },
     "execution_count": 7,
     "metadata": {},
     "output_type": "execute_result"
    }
   ],
   "source": [
    "df1 = df[df.Borough != 'Not assigned']\n",
    "df1 = df1.sort_values(by=['PostalCode','Borough'])\n",
    "\n",
    "df1.reset_index(inplace=True)\n",
    "df1.drop('index',axis=1,inplace=True)\n",
    "\n",
    "df1.head()"
   ]
  },
  {
   "cell_type": "code",
   "execution_count": 8,
   "metadata": {},
   "outputs": [],
   "source": [
    "df_postcodes = df1['PostalCode']\n",
    "df_postcodes.drop_duplicates(inplace=True)\n",
    "df2 = pd.DataFrame(df_postcodes)\n",
    "df2['Borough'] = '';\n",
    "df2['Neighbourhood'] = '';\n",
    "\n",
    "\n",
    "df2.reset_index(inplace=True)\n",
    "df2.drop('index', axis=1, inplace=True)\n",
    "df1.reset_index(inplace=True)\n",
    "df1.drop('index', axis=1, inplace=True)\n",
    "\n",
    "for i in df2.index:\n",
    "    for j in df1.index:\n",
    "        if df2.iloc[i, 0] == df1.iloc[j, 0]:\n",
    "            df2.iloc[i, 1] = df1.iloc[j, 1]\n",
    "            df2.iloc[i, 2] = df2.iloc[i, 2] + ',' + df1.iloc[j, 2]\n",
    "            \n",
    "for i in df2.index:\n",
    "    s = df2.iloc[i, 2]\n",
    "    if s[0] == ',':\n",
    "        s =s [1:]\n",
    "    df2.iloc[i,2 ] = s"
   ]
  },
  {
   "cell_type": "markdown",
   "metadata": {},
   "source": [
    "### 5. Adding Geospatial Data"
   ]
  },
  {
   "cell_type": "code",
   "execution_count": 9,
   "metadata": {},
   "outputs": [
    {
     "name": "stdout",
     "output_type": "stream",
     "text": [
      "--2020-07-12 20:30:50--  http://cocl.us/Geospatial_data/\n",
      "Resolving cocl.us (cocl.us)... 169.48.113.194, 158.85.108.86, 158.85.108.83\n",
      "Connecting to cocl.us (cocl.us)|169.48.113.194|:80... connected.\n",
      "HTTP request sent, awaiting response... 301 Moved Permanently\n",
      "Location: https://cocl.us/Geospatial_data/ [following]\n",
      "--2020-07-12 20:30:51--  https://cocl.us/Geospatial_data/\n",
      "Connecting to cocl.us (cocl.us)|169.48.113.194|:443... connected.\n",
      "HTTP request sent, awaiting response... 301 Moved Permanently\n",
      "Location: https://ibm.box.com/shared/static/9afzr83pps4pwf2smjjcf1y5mvgb18rr.csv [following]\n",
      "--2020-07-12 20:30:52--  https://ibm.box.com/shared/static/9afzr83pps4pwf2smjjcf1y5mvgb18rr.csv\n",
      "Resolving ibm.box.com (ibm.box.com)... 107.152.29.197\n",
      "Connecting to ibm.box.com (ibm.box.com)|107.152.29.197|:443... connected.\n",
      "HTTP request sent, awaiting response... 301 Moved Permanently\n",
      "Location: /public/static/9afzr83pps4pwf2smjjcf1y5mvgb18rr.csv [following]\n",
      "--2020-07-12 20:30:52--  https://ibm.box.com/public/static/9afzr83pps4pwf2smjjcf1y5mvgb18rr.csv\n",
      "Reusing existing connection to ibm.box.com:443.\n",
      "HTTP request sent, awaiting response... 301 Moved Permanently\n",
      "Location: https://ibm.ent.box.com/public/static/9afzr83pps4pwf2smjjcf1y5mvgb18rr.csv [following]\n",
      "--2020-07-12 20:30:52--  https://ibm.ent.box.com/public/static/9afzr83pps4pwf2smjjcf1y5mvgb18rr.csv\n",
      "Resolving ibm.ent.box.com (ibm.ent.box.com)... 107.152.29.201\n",
      "Connecting to ibm.ent.box.com (ibm.ent.box.com)|107.152.29.201|:443... connected.\n",
      "HTTP request sent, awaiting response... 302 Found\n",
      "Location: https://public.boxcloud.com/d/1/b1!CKdSCnNbG9WYUzKdk8qFF5pkxAFokKE6mZ5HINlquwW14PL_SGpDkEjr0IvOD5E6icb1vuCUduPcoFW2_4N3iyVT4J_sLu5cmU3G_fP83sPHK7g21td9DCKnF4-mzdp4lnj7LhSxWeIjAWJ596279-vI64q45T6YY8xo5Z2ilps9wx3RATWt57n65rcMHBIKAAogLUxsGuaKrgGedV-k2kc2w10upk4_5tDH4D5D2lYAOMz1AW9hZ7PgsRVdS0VxrUZUtS8hVrGm-Hs3izvvyQhYFvJ2Va3hoNjKxfMfh_bU1nOVfRqj8-TTM23DJMWGXxU4iUXy1CflAK6AhllJQVTfkNujRgJJ3E9J2IoWlz4K66_chZ3llz7Hv-1w2Vnt2-wnKVXRTnVkMjDiB3z-rw4SCDtV0n2Sc5an95-gi_G5ITMI1b66A_6k7MMCC1ugTudJnIxIfNtwC52tNU5VGThfSG3k9RNTRVuUw4jU8eLhipxC1_rDD0u5kgve7xM7FGzJ5Lg3VpDDytbji6v6KddTq14jd942vTHvrnJBb2dQs2s9KMhRwXtFP7r-2hAxRvjiYuwFIUAMOriP0qOM0Rcv70Pods4Mn_I5NoCzhn2PZUCcDqcKffibi9j1wkGeCZdtQJ1mQK6GMLu62jmufFyBZlKa6i5Lp9YooS9j82AhhXLAu36XUjSqxT6fO4CX0gQyeY2wDySNGX-vjRFaQbWgBGD4BuFaC-G2JR-Nyuz70TlHJDIWSn-3TmbOs9Nhs8OjpULGVx9OHH1YAda67prps-Q3sqo_uFWL-Mgm2cpQXeYSWOPZEJU55PadIFU3v04IdCiBsv_1lnERIZ5kYBccskiEsQ0_09KbzLlzm1OVTyqheSTZIhiFEqqQun2aKPuFPXcLOxFQtJkfJoSknjhwFt7V4ScoLNUUsjpvKUoK52NaWjPaKMuKWHRFAc0nYbdJUx39OHmHb94v5Q-n83ECFpuDsg-2isfISV0BX6-8MHnhijYOoI-u3oVEj3CnLpKTPWPHDazwrjuepfcl5rWPHxR_1WNSEITU0Xlw9h66hKEUNDUalPPyWYZPQHwfueD-sQqq34QO0BNXqfTHrz2CnSJ1eIJRK9Vy4kNDg_9g3OeInR5CFzAdqGCx_JkMW2_yBB4iiAq1hUSmfVGG8-C6crpyuBjl01v9QuMciy3C0tQXg9oCzM8uOb-FjR6W-PUZhot3G16sLnQr50xBHZSH9t-1XKDO_kUR2bA6XlwzYNfEOAdpsOPXxU5DIh3w5TSVklUp2TvVXyGgB0mz7WTNROH8Wnp_Itq_Jr3yzrp2a63xdL2Sl3Vy18DmO3p3XY1Qi0DIjq2BMUHP_E1QxqzKCpuF-xN8V142bebTBEguyQ4PBTGa-yajUykU8JH11JTUvcbHmRPBsjr-50cdYJ0iLGQX0xin1m8FAukWp7Ac/download [following]\n",
      "--2020-07-12 20:30:52--  https://public.boxcloud.com/d/1/b1!CKdSCnNbG9WYUzKdk8qFF5pkxAFokKE6mZ5HINlquwW14PL_SGpDkEjr0IvOD5E6icb1vuCUduPcoFW2_4N3iyVT4J_sLu5cmU3G_fP83sPHK7g21td9DCKnF4-mzdp4lnj7LhSxWeIjAWJ596279-vI64q45T6YY8xo5Z2ilps9wx3RATWt57n65rcMHBIKAAogLUxsGuaKrgGedV-k2kc2w10upk4_5tDH4D5D2lYAOMz1AW9hZ7PgsRVdS0VxrUZUtS8hVrGm-Hs3izvvyQhYFvJ2Va3hoNjKxfMfh_bU1nOVfRqj8-TTM23DJMWGXxU4iUXy1CflAK6AhllJQVTfkNujRgJJ3E9J2IoWlz4K66_chZ3llz7Hv-1w2Vnt2-wnKVXRTnVkMjDiB3z-rw4SCDtV0n2Sc5an95-gi_G5ITMI1b66A_6k7MMCC1ugTudJnIxIfNtwC52tNU5VGThfSG3k9RNTRVuUw4jU8eLhipxC1_rDD0u5kgve7xM7FGzJ5Lg3VpDDytbji6v6KddTq14jd942vTHvrnJBb2dQs2s9KMhRwXtFP7r-2hAxRvjiYuwFIUAMOriP0qOM0Rcv70Pods4Mn_I5NoCzhn2PZUCcDqcKffibi9j1wkGeCZdtQJ1mQK6GMLu62jmufFyBZlKa6i5Lp9YooS9j82AhhXLAu36XUjSqxT6fO4CX0gQyeY2wDySNGX-vjRFaQbWgBGD4BuFaC-G2JR-Nyuz70TlHJDIWSn-3TmbOs9Nhs8OjpULGVx9OHH1YAda67prps-Q3sqo_uFWL-Mgm2cpQXeYSWOPZEJU55PadIFU3v04IdCiBsv_1lnERIZ5kYBccskiEsQ0_09KbzLlzm1OVTyqheSTZIhiFEqqQun2aKPuFPXcLOxFQtJkfJoSknjhwFt7V4ScoLNUUsjpvKUoK52NaWjPaKMuKWHRFAc0nYbdJUx39OHmHb94v5Q-n83ECFpuDsg-2isfISV0BX6-8MHnhijYOoI-u3oVEj3CnLpKTPWPHDazwrjuepfcl5rWPHxR_1WNSEITU0Xlw9h66hKEUNDUalPPyWYZPQHwfueD-sQqq34QO0BNXqfTHrz2CnSJ1eIJRK9Vy4kNDg_9g3OeInR5CFzAdqGCx_JkMW2_yBB4iiAq1hUSmfVGG8-C6crpyuBjl01v9QuMciy3C0tQXg9oCzM8uOb-FjR6W-PUZhot3G16sLnQr50xBHZSH9t-1XKDO_kUR2bA6XlwzYNfEOAdpsOPXxU5DIh3w5TSVklUp2TvVXyGgB0mz7WTNROH8Wnp_Itq_Jr3yzrp2a63xdL2Sl3Vy18DmO3p3XY1Qi0DIjq2BMUHP_E1QxqzKCpuF-xN8V142bebTBEguyQ4PBTGa-yajUykU8JH11JTUvcbHmRPBsjr-50cdYJ0iLGQX0xin1m8FAukWp7Ac/download\n",
      "Resolving public.boxcloud.com (public.boxcloud.com)... 107.152.27.200\n",
      "Connecting to public.boxcloud.com (public.boxcloud.com)|107.152.27.200|:443... connected.\n",
      "HTTP request sent, awaiting response... 200 OK\n",
      "Length: 2891 (2.8K) [text/csv]\n",
      "Saving to: ‘GeoCord.csv’\n",
      "\n",
      "GeoCord.csv         100%[===================>]   2.82K  --.-KB/s    in 0.001s  \n",
      "\n",
      "2020-07-12 20:30:53 (2.16 MB/s) - ‘GeoCord.csv’ saved [2891/2891]\n",
      "\n"
     ]
    },
    {
     "data": {
      "text/html": [
       "<div>\n",
       "<style scoped>\n",
       "    .dataframe tbody tr th:only-of-type {\n",
       "        vertical-align: middle;\n",
       "    }\n",
       "\n",
       "    .dataframe tbody tr th {\n",
       "        vertical-align: top;\n",
       "    }\n",
       "\n",
       "    .dataframe thead th {\n",
       "        text-align: right;\n",
       "    }\n",
       "</style>\n",
       "<table border=\"1\" class=\"dataframe\">\n",
       "  <thead>\n",
       "    <tr style=\"text-align: right;\">\n",
       "      <th></th>\n",
       "      <th>Postal Code</th>\n",
       "      <th>Latitude</th>\n",
       "      <th>Longitude</th>\n",
       "    </tr>\n",
       "  </thead>\n",
       "  <tbody>\n",
       "    <tr>\n",
       "      <th>0</th>\n",
       "      <td>M1B</td>\n",
       "      <td>43.806686</td>\n",
       "      <td>-79.194353</td>\n",
       "    </tr>\n",
       "    <tr>\n",
       "      <th>1</th>\n",
       "      <td>M1C</td>\n",
       "      <td>43.784535</td>\n",
       "      <td>-79.160497</td>\n",
       "    </tr>\n",
       "    <tr>\n",
       "      <th>2</th>\n",
       "      <td>M1E</td>\n",
       "      <td>43.763573</td>\n",
       "      <td>-79.188711</td>\n",
       "    </tr>\n",
       "    <tr>\n",
       "      <th>3</th>\n",
       "      <td>M1G</td>\n",
       "      <td>43.770992</td>\n",
       "      <td>-79.216917</td>\n",
       "    </tr>\n",
       "    <tr>\n",
       "      <th>4</th>\n",
       "      <td>M1H</td>\n",
       "      <td>43.773136</td>\n",
       "      <td>-79.239476</td>\n",
       "    </tr>\n",
       "  </tbody>\n",
       "</table>\n",
       "</div>"
      ],
      "text/plain": [
       "  Postal Code   Latitude  Longitude\n",
       "0         M1B  43.806686 -79.194353\n",
       "1         M1C  43.784535 -79.160497\n",
       "2         M1E  43.763573 -79.188711\n",
       "3         M1G  43.770992 -79.216917\n",
       "4         M1H  43.773136 -79.239476"
      ]
     },
     "execution_count": 9,
     "metadata": {},
     "output_type": "execute_result"
    }
   ],
   "source": [
    "df2['Latitude'] = '0';\n",
    "df2['Longitude'] = '0';\n",
    "\n",
    "!wget -O GeoCord.csv http://cocl.us/Geospatial_data/\n",
    "df_geo = pd.read_csv('GeoCord.csv') \n",
    "df_geo.head()"
   ]
  },
  {
   "cell_type": "code",
   "execution_count": 10,
   "metadata": {},
   "outputs": [
    {
     "data": {
      "text/html": [
       "<div>\n",
       "<style scoped>\n",
       "    .dataframe tbody tr th:only-of-type {\n",
       "        vertical-align: middle;\n",
       "    }\n",
       "\n",
       "    .dataframe tbody tr th {\n",
       "        vertical-align: top;\n",
       "    }\n",
       "\n",
       "    .dataframe thead th {\n",
       "        text-align: right;\n",
       "    }\n",
       "</style>\n",
       "<table border=\"1\" class=\"dataframe\">\n",
       "  <thead>\n",
       "    <tr style=\"text-align: right;\">\n",
       "      <th></th>\n",
       "      <th>PostalCode</th>\n",
       "      <th>Borough</th>\n",
       "      <th>Neighbourhood</th>\n",
       "      <th>Latitude</th>\n",
       "      <th>Longitude</th>\n",
       "    </tr>\n",
       "  </thead>\n",
       "  <tbody>\n",
       "    <tr>\n",
       "      <th>0</th>\n",
       "      <td>M1B</td>\n",
       "      <td>Scarborough</td>\n",
       "      <td>Malvern, Rouge</td>\n",
       "      <td>43.8067</td>\n",
       "      <td>-79.1944</td>\n",
       "    </tr>\n",
       "    <tr>\n",
       "      <th>1</th>\n",
       "      <td>M1C</td>\n",
       "      <td>Scarborough</td>\n",
       "      <td>Rouge Hill, Port Union, Highland Creek</td>\n",
       "      <td>43.7845</td>\n",
       "      <td>-79.1605</td>\n",
       "    </tr>\n",
       "    <tr>\n",
       "      <th>2</th>\n",
       "      <td>M1E</td>\n",
       "      <td>Scarborough</td>\n",
       "      <td>Guildwood, Morningside, West Hill</td>\n",
       "      <td>43.7636</td>\n",
       "      <td>-79.1887</td>\n",
       "    </tr>\n",
       "    <tr>\n",
       "      <th>3</th>\n",
       "      <td>M1G</td>\n",
       "      <td>Scarborough</td>\n",
       "      <td>Woburn</td>\n",
       "      <td>43.771</td>\n",
       "      <td>-79.2169</td>\n",
       "    </tr>\n",
       "    <tr>\n",
       "      <th>4</th>\n",
       "      <td>M1H</td>\n",
       "      <td>Scarborough</td>\n",
       "      <td>Cedarbrae</td>\n",
       "      <td>43.7731</td>\n",
       "      <td>-79.2395</td>\n",
       "    </tr>\n",
       "  </tbody>\n",
       "</table>\n",
       "</div>"
      ],
      "text/plain": [
       "  PostalCode      Borough                           Neighbourhood Latitude  \\\n",
       "0        M1B  Scarborough                          Malvern, Rouge  43.8067   \n",
       "1        M1C  Scarborough  Rouge Hill, Port Union, Highland Creek  43.7845   \n",
       "2        M1E  Scarborough       Guildwood, Morningside, West Hill  43.7636   \n",
       "3        M1G  Scarborough                                  Woburn   43.771   \n",
       "4        M1H  Scarborough                               Cedarbrae  43.7731   \n",
       "\n",
       "  Longitude  \n",
       "0  -79.1944  \n",
       "1  -79.1605  \n",
       "2  -79.1887  \n",
       "3  -79.2169  \n",
       "4  -79.2395  "
      ]
     },
     "execution_count": 10,
     "metadata": {},
     "output_type": "execute_result"
    }
   ],
   "source": [
    "for i in df2.index:\n",
    "    for j in df_geo.index:\n",
    "        if df2.iloc[i, 0] == df_geo.iloc[j, 0]:\n",
    "            df2.iloc[i, 3] = df_geo.iloc[j, 1]\n",
    "            df2.iloc[i, 4] = df_geo.iloc[j, 2]\n",
    "            \n",
    "df2.head()"
   ]
  },
  {
   "cell_type": "markdown",
   "metadata": {},
   "source": [
    "### 6. Clustering the neighborhoods in Toronto"
   ]
  },
  {
   "cell_type": "code",
   "execution_count": 11,
   "metadata": {},
   "outputs": [
    {
     "data": {
      "text/html": [
       "<div>\n",
       "<style scoped>\n",
       "    .dataframe tbody tr th:only-of-type {\n",
       "        vertical-align: middle;\n",
       "    }\n",
       "\n",
       "    .dataframe tbody tr th {\n",
       "        vertical-align: top;\n",
       "    }\n",
       "\n",
       "    .dataframe thead th {\n",
       "        text-align: right;\n",
       "    }\n",
       "</style>\n",
       "<table border=\"1\" class=\"dataframe\">\n",
       "  <thead>\n",
       "    <tr style=\"text-align: right;\">\n",
       "      <th></th>\n",
       "      <th>PostalCode</th>\n",
       "      <th>Borough</th>\n",
       "      <th>Neighbourhood</th>\n",
       "      <th>Latitude</th>\n",
       "      <th>Longitude</th>\n",
       "    </tr>\n",
       "  </thead>\n",
       "  <tbody>\n",
       "    <tr>\n",
       "      <th>37</th>\n",
       "      <td>M4E</td>\n",
       "      <td>East Toronto</td>\n",
       "      <td>The Beaches</td>\n",
       "      <td>43.6764</td>\n",
       "      <td>-79.293</td>\n",
       "    </tr>\n",
       "    <tr>\n",
       "      <th>41</th>\n",
       "      <td>M4K</td>\n",
       "      <td>East Toronto</td>\n",
       "      <td>The Danforth West, Riverdale</td>\n",
       "      <td>43.6796</td>\n",
       "      <td>-79.3522</td>\n",
       "    </tr>\n",
       "    <tr>\n",
       "      <th>42</th>\n",
       "      <td>M4L</td>\n",
       "      <td>East Toronto</td>\n",
       "      <td>India Bazaar, The Beaches West</td>\n",
       "      <td>43.669</td>\n",
       "      <td>-79.3156</td>\n",
       "    </tr>\n",
       "    <tr>\n",
       "      <th>43</th>\n",
       "      <td>M4M</td>\n",
       "      <td>East Toronto</td>\n",
       "      <td>Studio District</td>\n",
       "      <td>43.6595</td>\n",
       "      <td>-79.3409</td>\n",
       "    </tr>\n",
       "    <tr>\n",
       "      <th>44</th>\n",
       "      <td>M4N</td>\n",
       "      <td>Central Toronto</td>\n",
       "      <td>Lawrence Park</td>\n",
       "      <td>43.728</td>\n",
       "      <td>-79.3888</td>\n",
       "    </tr>\n",
       "  </tbody>\n",
       "</table>\n",
       "</div>"
      ],
      "text/plain": [
       "   PostalCode          Borough                   Neighbourhood Latitude  \\\n",
       "37        M4E     East Toronto                     The Beaches  43.6764   \n",
       "41        M4K     East Toronto    The Danforth West, Riverdale  43.6796   \n",
       "42        M4L     East Toronto  India Bazaar, The Beaches West   43.669   \n",
       "43        M4M     East Toronto                 Studio District  43.6595   \n",
       "44        M4N  Central Toronto                   Lawrence Park   43.728   \n",
       "\n",
       "   Longitude  \n",
       "37   -79.293  \n",
       "41  -79.3522  \n",
       "42  -79.3156  \n",
       "43  -79.3409  \n",
       "44  -79.3888  "
      ]
     },
     "execution_count": 11,
     "metadata": {},
     "output_type": "execute_result"
    }
   ],
   "source": [
    "df3 = df2.copy()\n",
    "df3 = df3[df2.Borough.str.contains(\"Toronto\")]\n",
    "df3.head()"
   ]
  },
  {
   "cell_type": "code",
   "execution_count": 12,
   "metadata": {},
   "outputs": [
    {
     "data": {
      "text/html": [
       "<div style=\"width:100%;\"><div style=\"position:relative;width:100%;height:0;padding-bottom:60%;\"><span style=\"color:#565656\">Make this Notebook Trusted to load map: File -> Trust Notebook</span><iframe src=\"about:blank\" style=\"position:absolute;width:100%;height:100%;left:0;top:0;border:none !important;\" data-html=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 onload=\"this.contentDocument.open();this.contentDocument.write(atob(this.getAttribute('data-html')));this.contentDocument.close();\" allowfullscreen webkitallowfullscreen mozallowfullscreen></iframe></div></div>"
      ],
      "text/plain": [
       "<folium.folium.Map at 0x7fe964f6ea20>"
      ]
     },
     "execution_count": 12,
     "metadata": {},
     "output_type": "execute_result"
    }
   ],
   "source": [
    "toronto_map = folium.Map(location=[43.65, -79.4], zoom_start=12)\n",
    "\n",
    "X = df3['Latitude']\n",
    "Y = df3['Longitude']\n",
    "Z = np.stack((X, Y), axis=1)\n",
    "\n",
    "kmeans = KMeans(n_clusters=4, random_state=0).fit(Z)\n",
    "\n",
    "clusters = kmeans.labels_\n",
    "colors = ['red', 'green', 'blue', 'yellow']\n",
    "df3['Cluster'] = clusters\n",
    "\n",
    "for latitude, longitude, borough, cluster in zip(df3['Latitude'], df3['Longitude'], df3['Borough'], df3['Cluster']):\n",
    "    label = folium.Popup(borough, parse_html=True)\n",
    "    folium.CircleMarker(\n",
    "        [latitude, longitude],\n",
    "        radius=5,\n",
    "        popup=label,\n",
    "        color='black',\n",
    "        fill=True,\n",
    "        fill_color=colors[cluster],\n",
    "        fill_opacity=0.7).add_to(toronto_map)  \n",
    "\n",
    "toronto_map"
   ]
  },
  {
   "cell_type": "code",
   "execution_count": null,
   "metadata": {},
   "outputs": [],
   "source": []
  }
 ],
 "metadata": {
  "kernelspec": {
   "display_name": "Python",
   "language": "python",
   "name": "conda-env-python-py"
  },
  "language_info": {
   "codemirror_mode": {
    "name": "ipython",
    "version": 3
   },
   "file_extension": ".py",
   "mimetype": "text/x-python",
   "name": "python",
   "nbconvert_exporter": "python",
   "pygments_lexer": "ipython3",
   "version": "3.6.10"
  }
 },
 "nbformat": 4,
 "nbformat_minor": 4
}
